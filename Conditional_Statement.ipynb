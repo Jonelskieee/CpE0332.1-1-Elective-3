{
  "nbformat": 4,
  "nbformat_minor": 0,
  "metadata": {
    "colab": {
      "provenance": [],
      "authorship_tag": "ABX9TyOamGyRywKDvnfFlwnQqNZO",
      "include_colab_link": true
    },
    "kernelspec": {
      "name": "python3",
      "display_name": "Python 3"
    },
    "language_info": {
      "name": "python"
    }
  },
  "cells": [
    {
      "cell_type": "markdown",
      "metadata": {
        "id": "view-in-github",
        "colab_type": "text"
      },
      "source": [
        "<a href=\"https://colab.research.google.com/github/JosephAlambra/CpE0332.1-1-Elective-3/blob/main/Conditional_Statement.ipynb\" target=\"_parent\"><img src=\"https://colab.research.google.com/assets/colab-badge.svg\" alt=\"Open In Colab\"/></a>"
      ]
    },
    {
      "cell_type": "markdown",
      "source": [
        "If Statement"
      ],
      "metadata": {
        "id": "gFgXQ1O0CPKZ"
      }
    },
    {
      "cell_type": "code",
      "execution_count": 66,
      "metadata": {
        "colab": {
          "base_uri": "https://localhost:8080/"
        },
        "id": "veWtX9ViB0Kr",
        "outputId": "dea4ac86-5341-4aab-dfff-150a508d30b4"
      },
      "outputs": [
        {
          "output_type": "stream",
          "name": "stdout",
          "text": [
            "a is less than b\n"
          ]
        }
      ],
      "source": [
        "a = 12\n",
        "b = 100\n",
        "\n",
        "if a<b:\n",
        "  print('a is less than b')"
      ]
    },
    {
      "cell_type": "markdown",
      "source": [
        "Elif Statement"
      ],
      "metadata": {
        "id": "O_ix-WOoClKf"
      }
    },
    {
      "cell_type": "code",
      "source": [
        "print(\"Enter your age:\")\n",
        "age = int(input())\n",
        "if age>=18:\n",
        "  print(\"You are qualified to get a license\")\n",
        "elif age<18:\n",
        "  print(\"You are not qualified to get a license\")"
      ],
      "metadata": {
        "colab": {
          "base_uri": "https://localhost:8080/"
        },
        "id": "oPzZVHAoCns1",
        "outputId": "0e6bfc26-3354-4737-a532-a3dd69ccd8d0"
      },
      "execution_count": null,
      "outputs": [
        {
          "output_type": "stream",
          "name": "stdout",
          "text": [
            "Enter your age:\n",
            "17\n",
            "You are not qualified to get a license\n"
          ]
        }
      ]
    },
    {
      "cell_type": "markdown",
      "source": [
        "Else Statement"
      ],
      "metadata": {
        "id": "dT67RzoIEcXv"
      }
    },
    {
      "cell_type": "code",
      "source": [
        "print(\"Enter an integer:\")\n",
        "x = int(input())\n",
        "if x > 0:\n",
        "  print(\"Positive number\")\n",
        "elif x<0:\n",
        "  print(\"Negative number\")\n",
        "else:\n",
        "  print(\"Zero\")\n"
      ],
      "metadata": {
        "colab": {
          "base_uri": "https://localhost:8080/"
        },
        "id": "fNgDSO6cEevv",
        "outputId": "8563da88-8ffc-47ec-853c-432121e53cb9"
      },
      "execution_count": null,
      "outputs": [
        {
          "output_type": "stream",
          "name": "stdout",
          "text": [
            "Enter an integer:\n",
            "0\n",
            "Zero\n"
          ]
        }
      ]
    },
    {
      "cell_type": "markdown",
      "source": [
        "Short Hand If Statement"
      ],
      "metadata": {
        "id": "aI7LvLCmFO9Q"
      }
    },
    {
      "cell_type": "code",
      "source": [
        "if a<b: print('a is less than b')"
      ],
      "metadata": {
        "colab": {
          "base_uri": "https://localhost:8080/"
        },
        "id": "VKlw6_UtFXxn",
        "outputId": "46a8a5fe-0634-43aa-b998-9e659cf825a4"
      },
      "execution_count": null,
      "outputs": [
        {
          "output_type": "stream",
          "name": "stdout",
          "text": [
            "a is less than b\n"
          ]
        }
      ]
    },
    {
      "cell_type": "markdown",
      "source": [
        "Short Hand If..Else Statement"
      ],
      "metadata": {
        "id": "2Os1u2HUF5YJ"
      }
    },
    {
      "cell_type": "code",
      "source": [
        "print(\"a is greater than b\") if a>b else print('b is greater than a')"
      ],
      "metadata": {
        "colab": {
          "base_uri": "https://localhost:8080/"
        },
        "id": "ZbwBd3qwF-jA",
        "outputId": "193fc1c6-27ee-42ed-ef8f-25adeb10e2fb"
      },
      "execution_count": null,
      "outputs": [
        {
          "output_type": "stream",
          "name": "stdout",
          "text": [
            "b is greater than a\n"
          ]
        }
      ]
    },
    {
      "cell_type": "markdown",
      "source": [
        "And Statement"
      ],
      "metadata": {
        "id": "BBovYmBBGO_w"
      }
    },
    {
      "cell_type": "code",
      "source": [
        "c = 500\n",
        "if a < b and c > a:\n",
        "  print(\"both statements are true\")\n"
      ],
      "metadata": {
        "colab": {
          "base_uri": "https://localhost:8080/"
        },
        "id": "MBxCTuGoGegZ",
        "outputId": "0aa44d83-e500-49ed-8efd-39f904b18ad8"
      },
      "execution_count": null,
      "outputs": [
        {
          "output_type": "stream",
          "name": "stdout",
          "text": [
            "both statements are true\n"
          ]
        }
      ]
    },
    {
      "cell_type": "markdown",
      "source": [
        "Or Statement"
      ],
      "metadata": {
        "id": "kqbE8lnWG_-q"
      }
    },
    {
      "cell_type": "code",
      "source": [
        "if a < b or c > a:\n",
        "  print(\"both statements are true\")"
      ],
      "metadata": {
        "colab": {
          "base_uri": "https://localhost:8080/"
        },
        "id": "COC9gdZrHB0f",
        "outputId": "17b917b2-a44f-45c0-b21c-759f453797a2"
      },
      "execution_count": null,
      "outputs": [
        {
          "output_type": "stream",
          "name": "stdout",
          "text": [
            "both statements are true\n"
          ]
        }
      ]
    },
    {
      "cell_type": "markdown",
      "source": [
        "Nested If Statement"
      ],
      "metadata": {
        "id": "FeVXSJqAHMJh"
      }
    },
    {
      "cell_type": "code",
      "source": [
        "x = int(input())\n",
        "if x > 10:\n",
        "  print(\"above 10\")\n",
        "  if x > 20:\n",
        "    print('and also above 20')\n",
        "    if x > 30:\n",
        "      print('and also above 30')\n",
        "      if x > 40:\n",
        "        print('and also above 40')\n",
        "        if x > 50:\n",
        "          print('and also above 50')\n",
        "        else:\n",
        "          print('not above 50')\n",
        "      else:\n",
        "        print('not above 40')\n",
        "    else:\n",
        "        print('not above 30')\n",
        "  else:\n",
        "    print('not above 20')\n",
        "else:\n",
        "  print('not above 10')\n",
        "\n",
        "\n",
        "\n"
      ],
      "metadata": {
        "colab": {
          "base_uri": "https://localhost:8080/"
        },
        "id": "vl1v7VC3HnHp",
        "outputId": "534ad40c-1457-4136-8f0a-255984111629"
      },
      "execution_count": 37,
      "outputs": [
        {
          "output_type": "stream",
          "name": "stdout",
          "text": [
            "23\n",
            "above 10\n",
            "and also above 20\n",
            "not above 30\n"
          ]
        }
      ]
    },
    {
      "cell_type": "markdown",
      "source": [
        "Write a program to determine if the grades are:\n",
        "\n",
        "  If:\n",
        "   grade > = 75 , “Passed”\n",
        "  grade = 74, “Remedial”\n",
        "  grade < 74, “Failed”\n",
        "  note: if grade is a negative number, it will not accepted"
      ],
      "metadata": {
        "id": "wQELYOGDLbPv"
      }
    },
    {
      "cell_type": "code",
      "source": [
        "grade = float(input())\n",
        "if grade < 0:\n",
        "  print(\"Negative number is not accepted\")\n",
        "elif grade < 73.5:\n",
        "  print(\"Failed\")\n",
        "elif grade <= 74.4:\n",
        "  print(\"Remedial\")\n",
        "else:\n",
        "  print(\"Passed\")\n",
        "\n",
        "\n",
        ""
      ],
      "metadata": {
        "colab": {
          "base_uri": "https://localhost:8080/"
        },
        "id": "9lb1cq-OMQlz",
        "outputId": "9686827e-265e-4322-8e3d-5f5154cddd06"
      },
      "execution_count": 65,
      "outputs": [
        {
          "output_type": "stream",
          "name": "stdout",
          "text": [
            "73.5\n",
            "Remedial\n"
          ]
        }
      ]
    }
  ]
}