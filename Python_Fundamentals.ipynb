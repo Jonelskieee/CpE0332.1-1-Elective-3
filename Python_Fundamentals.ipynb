{
  "nbformat": 4,
  "nbformat_minor": 0,
  "metadata": {
    "colab": {
      "provenance": [],
      "authorship_tag": "ABX9TyM+vSFBo5LKAStNv7xKq60N",
      "include_colab_link": true
    },
    "kernelspec": {
      "name": "python3",
      "display_name": "Python 3"
    },
    "language_info": {
      "name": "python"
    }
  },
  "cells": [
    {
      "cell_type": "markdown",
      "metadata": {
        "id": "view-in-github",
        "colab_type": "text"
      },
      "source": [
        "<a href=\"https://colab.research.google.com/github/Jonelskieee/CpE0332.1-1-Elective-3/blob/main/Python_Fundamentals.ipynb\" target=\"_parent\"><img src=\"https://colab.research.google.com/assets/colab-badge.svg\" alt=\"Open In Colab\"/></a>"
      ]
    },
    {
      "cell_type": "markdown",
      "source": [
        "Python Indentation"
      ],
      "metadata": {
        "id": "fMAfDLMTi0Wh"
      }
    },
    {
      "cell_type": "code",
      "source": [
        "x = 3\n",
        "y = 2\n",
        "if x > y:\n",
        "  print(\"Five is greater than two\")"
      ],
      "metadata": {
        "colab": {
          "base_uri": "https://localhost:8080/"
        },
        "id": "XLUI8TbYjFJR",
        "outputId": "73f2991a-bea8-4074-9140-e7d4e14c50f5"
      },
      "execution_count": 54,
      "outputs": [
        {
          "output_type": "stream",
          "name": "stdout",
          "text": [
            "Five is greater than two\n"
          ]
        }
      ]
    },
    {
      "cell_type": "markdown",
      "source": [
        "Python Comment"
      ],
      "metadata": {
        "id": "bI8fq4E1kW6f"
      }
    },
    {
      "cell_type": "code",
      "source": [
        "print(\"Hello World\") #This is a Python comment"
      ],
      "metadata": {
        "colab": {
          "base_uri": "https://localhost:8080/"
        },
        "id": "CkTCgYzFkVo4",
        "outputId": "0d938698-d6f3-4e7f-a0d9-093f1270c6f8"
      },
      "execution_count": 11,
      "outputs": [
        {
          "output_type": "stream",
          "name": "stdout",
          "text": [
            "Hello World\n"
          ]
        }
      ]
    },
    {
      "cell_type": "markdown",
      "source": [
        "Python Variable"
      ],
      "metadata": {
        "id": "QiMDR98KknHf"
      }
    },
    {
      "cell_type": "code",
      "source": [
        "z = 1\n",
        "z,s = 0,-1\n",
        "z,s,t = 8,9,10\n",
        "z\n",
        "s\n",
        "t"
      ],
      "metadata": {
        "colab": {
          "base_uri": "https://localhost:8080/"
        },
        "id": "rS1A-QT6kqP_",
        "outputId": "ee05cd96-b155-49e4-ffca-c669bb064a3a"
      },
      "execution_count": 25,
      "outputs": [
        {
          "output_type": "execute_result",
          "data": {
            "text/plain": [
              "10"
            ]
          },
          "metadata": {},
          "execution_count": 25
        }
      ]
    },
    {
      "cell_type": "markdown",
      "source": [
        "Python Casting"
      ],
      "metadata": {
        "id": "FdNTCAaBkm_p"
      }
    },
    {
      "cell_type": "code",
      "source": [
        "b = \"Sally\" #This is a string\n",
        "b = float(4)\n",
        "b"
      ],
      "metadata": {
        "colab": {
          "base_uri": "https://localhost:8080/"
        },
        "id": "MHUla-I9l8H0",
        "outputId": "111d7a4f-c64d-41a8-b969-6272619ae42b"
      },
      "execution_count": 29,
      "outputs": [
        {
          "output_type": "execute_result",
          "data": {
            "text/plain": [
              "4.0"
            ]
          },
          "metadata": {},
          "execution_count": 29
        }
      ]
    },
    {
      "cell_type": "markdown",
      "source": [
        "Type() function\n"
      ],
      "metadata": {
        "id": "waYlIiUlmRMY"
      }
    },
    {
      "cell_type": "code",
      "source": [
        "print(type(b))"
      ],
      "metadata": {
        "colab": {
          "base_uri": "https://localhost:8080/"
        },
        "id": "yeRRGoIemhQi",
        "outputId": "c0d95eba-eb9a-497e-a4ec-92ca150dcdda"
      },
      "execution_count": 30,
      "outputs": [
        {
          "output_type": "stream",
          "name": "stdout",
          "text": [
            "<class 'float'>\n"
          ]
        }
      ]
    },
    {
      "cell_type": "markdown",
      "source": [
        "Double Quotes and Single Quotes"
      ],
      "metadata": {
        "id": "Qj1_u5k2m4Kj"
      }
    },
    {
      "cell_type": "code",
      "source": [
        "w = \"Ana\"\n",
        "print(w)\n",
        "q = 'Ana'\n",
        "print(q)"
      ],
      "metadata": {
        "colab": {
          "base_uri": "https://localhost:8080/"
        },
        "id": "wu1nL23mm69B",
        "outputId": "782ca639-a5aa-4ca8-e6c3-0fc7423377be"
      },
      "execution_count": 34,
      "outputs": [
        {
          "output_type": "stream",
          "name": "stdout",
          "text": [
            "Ana\n",
            "Ana\n"
          ]
        }
      ]
    },
    {
      "cell_type": "markdown",
      "source": [
        "Case Sensitive"
      ],
      "metadata": {
        "id": "30XKBMkWnQ06"
      }
    },
    {
      "cell_type": "code",
      "source": [
        "a = int(4)\n",
        "A = \"Sally\"\n",
        "a\n",
        "A"
      ],
      "metadata": {
        "colab": {
          "base_uri": "https://localhost:8080/",
          "height": 35
        },
        "id": "J1642IHunYPc",
        "outputId": "e0eedb80-da58-4756-e7b1-1637fdc92ca0"
      },
      "execution_count": 38,
      "outputs": [
        {
          "output_type": "execute_result",
          "data": {
            "text/plain": [
              "'Sally'"
            ],
            "application/vnd.google.colaboratory.intrinsic+json": {
              "type": "string"
            }
          },
          "metadata": {},
          "execution_count": 38
        }
      ]
    },
    {
      "cell_type": "markdown",
      "source": [
        "Multiple Variables"
      ],
      "metadata": {
        "id": "dueJwo3InzJL"
      }
    },
    {
      "cell_type": "code",
      "source": [
        "h,i,j = \"one\",'two',\"three\"\n",
        "print(h)\n",
        "print(i)\n",
        "print(j)"
      ],
      "metadata": {
        "colab": {
          "base_uri": "https://localhost:8080/"
        },
        "id": "LahOVT1kn069",
        "outputId": "1f626737-d171-4b5a-c42e-64a133b66a1d"
      },
      "execution_count": 40,
      "outputs": [
        {
          "output_type": "stream",
          "name": "stdout",
          "text": [
            "one\n",
            "two\n",
            "three\n"
          ]
        }
      ]
    },
    {
      "cell_type": "markdown",
      "source": [
        "Multiple Variables with Single Value"
      ],
      "metadata": {
        "id": "Y8yEko3UoQaP"
      }
    },
    {
      "cell_type": "code",
      "source": [
        "k = l = m = \"four\"\n",
        "print(k)\n",
        "print(l)\n",
        "print(m)"
      ],
      "metadata": {
        "colab": {
          "base_uri": "https://localhost:8080/"
        },
        "id": "j-10dOJaoX5d",
        "outputId": "9eb259cd-dd6c-4af5-a7c3-fc574b521859"
      },
      "execution_count": 43,
      "outputs": [
        {
          "output_type": "stream",
          "name": "stdout",
          "text": [
            "four\n",
            "four\n",
            "four\n"
          ]
        }
      ]
    },
    {
      "cell_type": "markdown",
      "source": [
        "Output Variable and Concatenation +"
      ],
      "metadata": {
        "id": "Wu_dC9aXo0F-"
      }
    },
    {
      "cell_type": "code",
      "source": [
        "n = \"enjoying\"\n",
        "p = \"Python programming is \"\n",
        "print(p + n)"
      ],
      "metadata": {
        "colab": {
          "base_uri": "https://localhost:8080/"
        },
        "id": "QnYqgA7Wo9gg",
        "outputId": "bd5b3eb7-7901-4848-fbcf-e37d06f3f40a"
      },
      "execution_count": 51,
      "outputs": [
        {
          "output_type": "stream",
          "name": "stdout",
          "text": [
            "Python programming is enjoying\n"
          ]
        }
      ]
    },
    {
      "cell_type": "markdown",
      "source": [
        "Arithmetic Operations"
      ],
      "metadata": {
        "id": "ykxPFQKnpccA"
      }
    },
    {
      "cell_type": "code",
      "source": [
        "print(x+y) #Addition\n",
        "print(x-y) #Subtraction\n",
        "print(x*y) #Multiplication\n",
        "print(round(5/3),2) #Division\n",
        "print(x//y) #Floor Division\n",
        "print(x%y) #Modulus\n",
        "print(x**y) #Exponentiation"
      ],
      "metadata": {
        "colab": {
          "base_uri": "https://localhost:8080/"
        },
        "id": "C_0vDYQbvMTA",
        "outputId": "c28fb3f4-32c6-4c55-ba9b-d9b33b5d3d92"
      },
      "execution_count": 63,
      "outputs": [
        {
          "output_type": "stream",
          "name": "stdout",
          "text": [
            "5\n",
            "1\n",
            "6\n",
            "2 2\n",
            "1\n",
            "1\n",
            "9\n"
          ]
        }
      ]
    },
    {
      "cell_type": "markdown",
      "source": [
        "Assignment Operators"
      ],
      "metadata": {
        "id": "-LTVL9SxwcTa"
      }
    },
    {
      "cell_type": "code",
      "source": [
        "x+=3 #same as x = x+3\n",
        "print(x)"
      ],
      "metadata": {
        "colab": {
          "base_uri": "https://localhost:8080/"
        },
        "id": "xUA8SfCOwqhV",
        "outputId": "87725206-03ac-458f-d959-805e2d1d7019"
      },
      "execution_count": 64,
      "outputs": [
        {
          "output_type": "stream",
          "name": "stdout",
          "text": [
            "6\n"
          ]
        }
      ]
    },
    {
      "cell_type": "markdown",
      "source": [
        "Comparison Operator"
      ],
      "metadata": {
        "id": "sZadHvS1w9h7"
      }
    },
    {
      "cell_type": "code",
      "source": [
        "print(x==y) # x=3, y=2\n",
        "print(x!=y)\n",
        "print(x>y)\n",
        "print(x<y)"
      ],
      "metadata": {
        "colab": {
          "base_uri": "https://localhost:8080/"
        },
        "id": "BjI_XZAvxIkG",
        "outputId": "2f17c6c8-c861-4821-8bd6-7ade1baf0c13"
      },
      "execution_count": 68,
      "outputs": [
        {
          "output_type": "stream",
          "name": "stdout",
          "text": [
            "False\n",
            "True\n",
            "True\n",
            "False\n"
          ]
        }
      ]
    },
    {
      "cell_type": "markdown",
      "source": [
        "Logical Operator"
      ],
      "metadata": {
        "id": "h4NL8UWZxttT"
      }
    },
    {
      "cell_type": "code",
      "source": [
        "print(x==y and x!=y) #False and True\n",
        "print(x==y or x!=y) #False or True\n",
        "print(not(x==y or x!=y)) #negate(False or True)"
      ],
      "metadata": {
        "colab": {
          "base_uri": "https://localhost:8080/"
        },
        "id": "V-Wm3YZGx8uD",
        "outputId": "e1b639b2-379c-421f-a0e9-ab76226b7129"
      },
      "execution_count": 72,
      "outputs": [
        {
          "output_type": "stream",
          "name": "stdout",
          "text": [
            "False\n",
            "True\n",
            "False\n"
          ]
        }
      ]
    },
    {
      "cell_type": "markdown",
      "source": [
        "Identity Operator"
      ],
      "metadata": {
        "id": "scj6lJPbyzU7"
      }
    },
    {
      "cell_type": "code",
      "source": [
        "x is y # x=3, y=2\n",
        "x is not y"
      ],
      "metadata": {
        "colab": {
          "base_uri": "https://localhost:8080/"
        },
        "id": "h2c_-bOSy1-d",
        "outputId": "d8e1d820-3c35-4558-9ed7-05b90e2e2902"
      },
      "execution_count": 74,
      "outputs": [
        {
          "output_type": "execute_result",
          "data": {
            "text/plain": [
              "True"
            ]
          },
          "metadata": {},
          "execution_count": 74
        }
      ]
    },
    {
      "cell_type": "markdown",
      "source": [
        "Bitwise Operator"
      ],
      "metadata": {
        "id": "9B8YIOwgzDsg"
      }
    },
    {
      "cell_type": "code",
      "source": [
        "#10+1 = 11   ; 1010 + 0001 = 1011\n",
        "print(10 | 1)\n",
        "\n",
        "print(x>>1) #x=3, 011"
      ],
      "metadata": {
        "colab": {
          "base_uri": "https://localhost:8080/"
        },
        "id": "4b5H8N4MzFCH",
        "outputId": "5519a23f-13c0-4240-9a2e-b638e939bd45"
      },
      "execution_count": 83,
      "outputs": [
        {
          "output_type": "stream",
          "name": "stdout",
          "text": [
            "11\n",
            "3\n"
          ]
        }
      ]
    },
    {
      "cell_type": "markdown",
      "source": [
        "Application 1"
      ],
      "metadata": {
        "id": "M_Keu7rH008D"
      }
    },
    {
      "cell_type": "code",
      "source": [
        "#Create a Python program that displays your Fullname, Age, and Course and Section"
      ],
      "metadata": {
        "id": "zNFze4Bl02wL"
      },
      "execution_count": null,
      "outputs": []
    },
    {
      "cell_type": "code",
      "source": [
        "Full_Name = \"Joseph Nathaniel Alambra, \"\n",
        "Age = \"21, \"\n",
        "Course_Section = \"ELECTIVE 3 (LABORATORY) - CPE 0332.1-1\"\n",
        "print(Full_Name + Age + Course_Section)\n"
      ],
      "metadata": {
        "colab": {
          "base_uri": "https://localhost:8080/"
        },
        "id": "rA46LggJ1rbi",
        "outputId": "5edc9f3c-99dc-4d8c-80f8-f1a300dc6b98"
      },
      "execution_count": 87,
      "outputs": [
        {
          "output_type": "stream",
          "name": "stdout",
          "text": [
            "Joseph Nathaniel Alambra, 21, ELECTIVE 3 (LABORATORY) - CPE 0332.1-1\n"
          ]
        }
      ]
    }
  ]
}